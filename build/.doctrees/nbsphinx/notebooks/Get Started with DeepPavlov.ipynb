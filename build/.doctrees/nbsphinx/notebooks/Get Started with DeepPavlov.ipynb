{
 "cells": [
  {
   "cell_type": "markdown",
   "id": "f2df4dc7",
   "metadata": {},
   "source": [
    "#### Get started with DeepPavlov Library"
   ]
  },
  {
   "cell_type": "markdown",
   "id": "a41385bd",
   "metadata": {},
   "source": [
    "## Installation"
   ]
  },
  {
   "cell_type": "code",
   "execution_count": 1,
   "id": "78796c90",
   "metadata": {
    "execution": {
     "iopub.execute_input": "2022-04-12T14:12:20.721737Z",
     "iopub.status.busy": "2022-04-12T14:12:20.720736Z",
     "iopub.status.idle": "2022-04-12T14:12:32.688893Z",
     "shell.execute_reply": "2022-04-12T14:12:32.686989Z"
    }
   },
   "outputs": [
    {
     "name": "stdout",
     "output_type": "stream",
     "text": [
      "Requirement already satisfied: deeppavlov in c:\\users\\анастасия\\appdata\\roaming\\python\\python37\\site-packages (0.14.0)\n",
      "Requirement already satisfied: pandas==0.25.3 in c:\\users\\анастасия\\appdata\\roaming\\python\\python37\\site-packages (from deeppavlov) (0.25.3)\n",
      "Requirement already satisfied: overrides==2.7.0 in c:\\users\\анастасия\\appdata\\roaming\\python\\python37\\site-packages (from deeppavlov) (2.7.0)\n",
      "Requirement already satisfied: uvicorn==0.11.7 in c:\\anaconda\\lib\\site-packages (from deeppavlov) (0.11.7)\n",
      "Requirement already satisfied: scipy==1.4.1 in c:\\anaconda\\lib\\site-packages (from deeppavlov) (1.4.1)\n",
      "Requirement already satisfied: requests==2.22.0 in c:\\anaconda\\lib\\site-packages (from deeppavlov) (2.22.0)\n",
      "Requirement already satisfied: nltk==3.4.5 in c:\\users\\анастасия\\appdata\\roaming\\python\\python37\\site-packages (from deeppavlov) (3.4.5)\n",
      "Requirement already satisfied: tqdm==4.41.1 in c:\\anaconda\\lib\\site-packages (from deeppavlov) (4.41.1)\n",
      "Requirement already satisfied: click==7.1.2 in c:\\anaconda\\lib\\site-packages (from deeppavlov) (7.1.2)\n",
      "Requirement already satisfied: rusenttokenize==0.0.5 in c:\\anaconda\\lib\\site-packages (from deeppavlov) (0.0.5)\n",
      "Collecting ruamel.yaml==0.15.100\n",
      "  Using cached ruamel.yaml-0.15.100-cp37-cp37m-win_amd64.whl (225 kB)\n",
      "Requirement already satisfied: pydantic==1.3 in c:\\anaconda\\lib\\site-packages (from deeppavlov) (1.3)\n",
      "Requirement already satisfied: scikit-learn==0.21.2 in c:\\anaconda\\lib\\site-packages (from deeppavlov) (0.21.2)\n",
      "Requirement already satisfied: h5py==2.10.0 in c:\\users\\анастасия\\appdata\\roaming\\python\\python37\\site-packages (from deeppavlov) (2.10.0)\n",
      "Requirement already satisfied: pyopenssl==19.1.0 in c:\\users\\анастасия\\appdata\\roaming\\python\\python37\\site-packages (from deeppavlov) (19.1.0)\n",
      "Requirement already satisfied: numpy==1.18.0 in c:\\anaconda\\lib\\site-packages (from deeppavlov) (1.18.0)\n",
      "Requirement already satisfied: sacremoses==0.0.35 in c:\\anaconda\\lib\\site-packages (from deeppavlov) (0.0.35)\n",
      "Requirement already satisfied: pymorphy2==0.8 in c:\\anaconda\\lib\\site-packages (from deeppavlov) (0.8)\n",
      "Requirement already satisfied: prometheus-client==0.7.1 in c:\\anaconda\\lib\\site-packages (from deeppavlov) (0.7.1)\n",
      "Requirement already satisfied: filelock==3.0.12 in c:\\anaconda\\lib\\site-packages (from deeppavlov) (3.0.12)\n",
      "Requirement already satisfied: pytelegrambotapi==3.6.7 in c:\\users\\анастасия\\appdata\\roaming\\python\\python37\\site-packages (from deeppavlov) (3.6.7)\n",
      "Requirement already satisfied: pymorphy2-dicts-ru in c:\\users\\анастасия\\appdata\\roaming\\python\\python37\\site-packages (from deeppavlov) (2.4.417127.4579844)\n",
      "Requirement already satisfied: Cython==0.29.14 in c:\\users\\анастасия\\appdata\\roaming\\python\\python37\\site-packages (from deeppavlov) (0.29.14)\n",
      "Requirement already satisfied: fastapi==0.47.1 in c:\\users\\анастасия\\appdata\\roaming\\python\\python37\\site-packages (from deeppavlov) (0.47.1)\n",
      "Requirement already satisfied: aio-pika==6.4.1 in c:\\users\\анастасия\\appdata\\roaming\\python\\python37\\site-packages (from deeppavlov) (6.4.1)\n",
      "Requirement already satisfied: pytz==2019.1 in c:\\anaconda\\lib\\site-packages (from deeppavlov) (2019.1)\n",
      "Requirement already satisfied: yarl in c:\\anaconda\\lib\\site-packages (from aio-pika==6.4.1->deeppavlov) (1.7.2)\n",
      "Requirement already satisfied: aiormq<4,>=3.2.0 in c:\\anaconda\\lib\\site-packages (from aio-pika==6.4.1->deeppavlov) (3.3.1)\n",
      "Requirement already satisfied: starlette<=0.12.9,>=0.12.9 in c:\\anaconda\\lib\\site-packages (from fastapi==0.47.1->deeppavlov) (0.12.9)\n",
      "Requirement already satisfied: six in c:\\anaconda\\lib\\site-packages (from h5py==2.10.0->deeppavlov) (1.15.0)\n",
      "Requirement already satisfied: python-dateutil>=2.6.1 in c:\\users\\анастасия\\appdata\\roaming\\python\\python37\\site-packages (from pandas==0.25.3->deeppavlov) (2.8.2)\n",
      "Requirement already satisfied: dawg-python>=0.7 in c:\\anaconda\\lib\\site-packages (from pymorphy2==0.8->deeppavlov) (0.7.2)\n",
      "Requirement already satisfied: docopt>=0.6 in c:\\anaconda\\lib\\site-packages (from pymorphy2==0.8->deeppavlov) (0.6.2)\n",
      "Requirement already satisfied: pymorphy2-dicts<3.0,>=2.4 in c:\\anaconda\\lib\\site-packages (from pymorphy2==0.8->deeppavlov) (2.4.393442.3710985)\n",
      "Requirement already satisfied: cryptography>=2.8 in c:\\anaconda\\lib\\site-packages (from pyopenssl==19.1.0->deeppavlov) (36.0.2)\n",
      "Requirement already satisfied: chardet<3.1.0,>=3.0.2 in c:\\anaconda\\lib\\site-packages (from requests==2.22.0->deeppavlov) (3.0.4)\n",
      "Requirement already satisfied: idna<2.9,>=2.5 in c:\\anaconda\\lib\\site-packages (from requests==2.22.0->deeppavlov) (2.8)\n",
      "Requirement already satisfied: urllib3!=1.25.0,!=1.25.1,<1.26,>=1.21.1 in c:\\anaconda\\lib\\site-packages (from requests==2.22.0->deeppavlov) (1.25.11)\n"
     ]
    },
    {
     "name": "stderr",
     "output_type": "stream",
     "text": [
      "WARNING: Ignoring invalid distribution -umpy (c:\\anaconda\\lib\\site-packages)\n",
      "WARNING: Ignoring invalid distribution -umexpr (c:\\anaconda\\lib\\site-packages)\n",
      "WARNING: Ignoring invalid distribution -uamel-yaml (c:\\anaconda\\lib\\site-packages)\n",
      "WARNING: Ignoring invalid distribution -cipy (c:\\anaconda\\lib\\site-packages)\n",
      "WARNING: Ignoring invalid distribution -umpy (c:\\anaconda\\lib\\site-packages)\n",
      "WARNING: Ignoring invalid distribution -umexpr (c:\\anaconda\\lib\\site-packages)\n",
      "WARNING: Ignoring invalid distribution -uamel-yaml (c:\\anaconda\\lib\\site-packages)\n",
      "WARNING: Ignoring invalid distribution -cipy (c:\\anaconda\\lib\\site-packages)\n",
      "WARNING: Ignoring invalid distribution -umpy (c:\\anaconda\\lib\\site-packages)\n",
      "WARNING: Ignoring invalid distribution -umexpr (c:\\anaconda\\lib\\site-packages)\n",
      "WARNING: Ignoring invalid distribution -uamel-yaml (c:\\anaconda\\lib\\site-packages)\n",
      "WARNING: Ignoring invalid distribution -cipy (c:\\anaconda\\lib\\site-packages)\n",
      "    WARNING: Ignoring invalid distribution -umpy (c:\\anaconda\\lib\\site-packages)\n",
      "    WARNING: Ignoring invalid distribution -umexpr (c:\\anaconda\\lib\\site-packages)\n",
      "    WARNING: Ignoring invalid distribution -uamel-yaml (c:\\anaconda\\lib\\site-packages)\n",
      "    WARNING: Ignoring invalid distribution -cipy (c:\\anaconda\\lib\\site-packages)\n",
      "ERROR: Could not install packages due to an OSError: [WinError 5] Отказано в доступе: 'C:\\\\temp\\\\pip-uninstall-1uva9_na\\\\_ruamel_yaml.cp37-win_amd64.pyd'\n",
      "Consider using the `--user` option or check the permissions.\n",
      "\n",
      "WARNING: Ignoring invalid distribution -umpy (c:\\anaconda\\lib\\site-packages)\n",
      "WARNING: Ignoring invalid distribution -umexpr (c:\\anaconda\\lib\\site-packages)\n",
      "WARNING: Ignoring invalid distribution -uamel-yaml (c:\\anaconda\\lib\\site-packages)\n",
      "WARNING: Ignoring invalid distribution -cipy (c:\\anaconda\\lib\\site-packages)\n",
      "WARNING: Ignoring invalid distribution -umpy (c:\\anaconda\\lib\\site-packages)\n",
      "WARNING: Ignoring invalid distribution -umexpr (c:\\anaconda\\lib\\site-packages)\n",
      "WARNING: Ignoring invalid distribution -uamel-yaml (c:\\anaconda\\lib\\site-packages)\n",
      "WARNING: Ignoring invalid distribution -cipy (c:\\anaconda\\lib\\site-packages)\n"
     ]
    },
    {
     "name": "stdout",
     "output_type": "stream",
     "text": [
      "Requirement already satisfied: certifi>=2017.4.17 in c:\\anaconda\\lib\\site-packages (from requests==2.22.0->deeppavlov) (2019.6.16)\n",
      "Requirement already satisfied: joblib in c:\\anaconda\\lib\\site-packages (from sacremoses==0.0.35->deeppavlov) (0.13.2)\n",
      "Requirement already satisfied: websockets==8.* in c:\\anaconda\\lib\\site-packages (from uvicorn==0.11.7->deeppavlov) (8.1)\n",
      "Requirement already satisfied: h11<0.10,>=0.8 in c:\\anaconda\\lib\\site-packages (from uvicorn==0.11.7->deeppavlov) (0.9.0)\n",
      "Requirement already satisfied: pamqp==2.3.0 in c:\\anaconda\\lib\\site-packages (from aiormq<4,>=3.2.0->aio-pika==6.4.1->deeppavlov) (2.3.0)\n",
      "Requirement already satisfied: cffi>=1.12 in c:\\anaconda\\lib\\site-packages (from cryptography>=2.8->pyopenssl==19.1.0->deeppavlov) (1.15.0)\n",
      "Requirement already satisfied: typing-extensions>=3.7.4 in c:\\anaconda\\lib\\site-packages (from yarl->aio-pika==6.4.1->deeppavlov) (3.10.0.0)\n",
      "Requirement already satisfied: multidict>=4.0 in c:\\anaconda\\lib\\site-packages (from yarl->aio-pika==6.4.1->deeppavlov) (5.2.0)\n",
      "Requirement already satisfied: pycparser in c:\\anaconda\\lib\\site-packages (from cffi>=1.12->cryptography>=2.8->pyopenssl==19.1.0->deeppavlov) (2.19)\n",
      "Installing collected packages: ruamel.yaml\n",
      "  Attempting uninstall: ruamel.yaml\n",
      "    Found existing installation: ruamel.yaml 0.15.100\n",
      "    Uninstalling ruamel.yaml-0.15.100:\n",
      "      Successfully uninstalled ruamel.yaml-0.15.100\n"
     ]
    },
    {
     "name": "stderr",
     "output_type": "stream",
     "text": [
      "WARNING: Ignoring invalid distribution -umpy (c:\\anaconda\\lib\\site-packages)\n",
      "WARNING: Ignoring invalid distribution -umexpr (c:\\anaconda\\lib\\site-packages)\n",
      "WARNING: Ignoring invalid distribution -uamel-yaml (c:\\anaconda\\lib\\site-packages)\n",
      "WARNING: Ignoring invalid distribution -cipy (c:\\anaconda\\lib\\site-packages)\n",
      "WARNING: You are using pip version 21.3; however, version 22.0.4 is available.\n",
      "You should consider upgrading via the 'c:\\anaconda\\python.exe -m pip install --upgrade pip' command.\n"
     ]
    }
   ],
   "source": [
    "!pip install deeppavlov"
   ]
  },
  {
   "cell_type": "markdown",
   "id": "3d4138fa",
   "metadata": {},
   "source": [
    "To be continued"
   ]
  },
  {
   "cell_type": "code",
   "execution_count": null,
   "id": "4ec24997",
   "metadata": {},
   "outputs": [],
   "source": []
  }
 ],
 "metadata": {
  "kernelspec": {
   "display_name": "Python (doc_env)",
   "language": "python",
   "name": "doc_env"
  },
  "language_info": {
   "codemirror_mode": {
    "name": "ipython",
    "version": 3
   },
   "file_extension": ".py",
   "mimetype": "text/x-python",
   "name": "python",
   "nbconvert_exporter": "python",
   "pygments_lexer": "ipython3",
   "version": "3.7.3"
  }
 },
 "nbformat": 4,
 "nbformat_minor": 5
}
