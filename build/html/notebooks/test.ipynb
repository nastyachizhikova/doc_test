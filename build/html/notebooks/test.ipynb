{
  "cells": [
    {
      "cell_type": "markdown",
      "metadata": {
        "id": "wA2NayPu9l_r"
      },
      "source": [
        "# Named Entity Recognition (NER)"
      ]
    },
    {
      "cell_type": "markdown",
      "metadata": {
        "id": "UkOFKCKJ9l_x"
      },
      "source": [
        "NER-task is a ......\n",
        "\n",
        "### Table of contents. \n",
        "\n",
        "* [Using the model from Python](#chapter1)\n",
        "    * [Section 1.1](#section_1_1)\n",
        "    * [Section 1.2](sSection_1_2)\n",
        "        * [Section 1.2.1](#section_1_2_1)\n",
        "        * [Section 1.2.2](#section_1_2_2)\n",
        "        * [Section 1.2.3](#section_1_2_3)\n",
        "* [Using the model from the command line](#chapter2)\n",
        "    * [Section 2.1](#section_2_1)\n",
        "    * [Section 2.2](#section_2_2)"
      ]
    },
    {
      "cell_type": "markdown",
      "metadata": {
        "id": "PEYknuKK9l_y"
      },
      "source": [
        "## Using the model from Python <a class=\"anchor\" id=\"chapter1\"></a>"
      ]
    },
    {
      "cell_type": "markdown",
      "metadata": {
        "id": "ygOmNC9R9l_y"
      },
      "source": [
        "First make sure you have the DeepPavlov library installed\n",
        "\\#TODO: link to istallation page"
      ]
    },
    {
      "cell_type": "code",
      "execution_count": 2,
      "metadata": {
        "id": "o-GoKStT9l_z"
      },
      "outputs": [],
      "source": [
        "!pip install --q deeppavlov"
      ]
    },
    {
      "cell_type": "code",
      "source": [
        "!pip install --q transformers"
      ],
      "metadata": {
        "id": "2VgYKBCt-Y4i"
      },
      "execution_count": 1,
      "outputs": []
    },
    {
      "cell_type": "markdown",
      "metadata": {
        "id": "-j3tJy1c9l_1"
      },
      "source": [
        "### Use the pre-trained model for prediction"
      ]
    },
    {
      "cell_type": "markdown",
      "metadata": {
        "id": "cLnbUke-9l_3"
      },
      "source": [
        "Build the model using its *config_file* name (in this case - *ner_ontonotes_bert_torch*). \n",
        "\n",
        "What is a config file? # link to the tutorial\n",
        "\n",
        "You can change the NER model you are using by changing the name of the *config_file*.\n",
        "The full list of NER models with their config names can be found **here**."
      ]
    },
    {
      "cell_type": "code",
      "execution_count": null,
      "metadata": {
        "id": "fnHw4a6C9l_4"
      },
      "outputs": [],
      "source": [
        "from deeppavlov import configs, build_model\n",
        "\n",
        "ner_model = build_model(configs.ner.ner_ontonotes_bert_torch, download=True)"
      ]
    },
    {
      "cell_type": "markdown",
      "metadata": {
        "id": "zN-BCH1z9l_6"
      },
      "source": [
        "Predict\n",
        "\n",
        "**input**: list of sequences\n",
        "**output_format**: list of tokens, list of their corresponding NER-tags"
      ]
    },
    {
      "cell_type": "code",
      "execution_count": 6,
      "metadata": {
        "colab": {
          "base_uri": "https://localhost:8080/"
        },
        "id": "QFXXQf3Q9l_6",
        "outputId": "a6087769-fafc-4821-8254-465bc98b9886"
      },
      "outputs": [
        {
          "output_type": "execute_result",
          "data": {
            "text/plain": [
              "[[['Bob', 'Ross', 'lived', 'in', 'Florida'],\n",
              "  ['Elon', 'Musk', 'founded', 'Tesla']],\n",
              " [['B-PERSON', 'I-PERSON', 'O', 'O', 'B-GPE'],\n",
              "  ['B-PERSON', 'I-PERSON', 'O', 'B-ORG']]]"
            ]
          },
          "metadata": {},
          "execution_count": 6
        }
      ],
      "source": [
        "ner_model(['Bob Ross lived in Florida', 'Elon Musk founded Tesla'])"
      ]
    },
    {
      "cell_type": "markdown",
      "metadata": {
        "id": "RLeAxnlu9l_7"
      },
      "source": [
        "\n",
        "### Train the model on your data"
      ]
    },
    {
      "cell_type": "markdown",
      "metadata": {
        "id": "Xo9slD6v9l_7"
      },
      "source": [
        "#### Provide your data path"
      ]
    },
    {
      "cell_type": "markdown",
      "metadata": {
        "id": "6T4aceh89l_8"
      },
      "source": [
        "To train the model on your data, you need to change the path to the training data in the *config_file*. "
      ]
    },
    {
      "cell_type": "markdown",
      "metadata": {
        "id": "5BC6SQW-9l_8"
      },
      "source": [
        "?You can do that manually by editing the config json-file.?\n",
        "Alternatively, you can parse the *config_file* and change the path to your data from Python."
      ]
    },
    {
      "cell_type": "code",
      "execution_count": 15,
      "metadata": {
        "colab": {
          "base_uri": "https://localhost:8080/"
        },
        "id": "WcAH6pn79l_8",
        "outputId": "168d496d-453d-4db6-f927-18420f577e4d"
      },
      "outputs": [
        {
          "output_type": "stream",
          "name": "stdout",
          "text": [
            "~/.deeppavlov/downloads/ontonotes/\n"
          ]
        }
      ],
      "source": [
        "from deeppavlov import configs, train_model\n",
        "from deeppavlov.core.commands.utils import parse_config\n",
        "\n",
        "model_config = parse_config(configs.ner.ner_ontonotes_bert_torch)\n",
        "\n",
        "#  dataset that the model was trained on\n",
        "print(model_config['dataset_reader']['data_path'])"
      ]
    },
    {
      "cell_type": "markdown",
      "metadata": {
        "id": "MCK5fbHM9l_9"
      },
      "source": [
        "You can provide a *data_path* to your dataset..."
      ]
    },
    {
      "cell_type": "code",
      "execution_count": 16,
      "metadata": {
        "id": "QkqD3RJi9l_-"
      },
      "outputs": [],
      "source": [
        "model_config[\"dataset_reader\"][\"data_path\"] = \"/content/faq.csv\"\n",
        "# model_config[\"dataset_reader\"][\"data_url\"] = None"
      ]
    },
    {
      "cell_type": "markdown",
      "metadata": {
        "id": "g3OEZVUW9l_-"
      },
      "source": [
        "...or give a link to your data in the *data_url* parameter."
      ]
    },
    {
      "cell_type": "code",
      "execution_count": 9,
      "metadata": {
        "id": "HL5HEEUU9l_-"
      },
      "outputs": [],
      "source": [
        "model_config[\"dataset_reader\"][\"data_path\"] = ''\n",
        "# model_config[\"dataset_reader\"][\"data_url\"] = \"http://files.deeppavlov.ai/faq/school/faq_school_en.csv\""
      ]
    },
    {
      "cell_type": "markdown",
      "metadata": {
        "id": "pK7yYFFe9l__"
      },
      "source": [
        "#### Training dataset format"
      ]
    },
    {
      "cell_type": "markdown",
      "metadata": {
        "id": "z2qz4SMl9l__"
      },
      "source": [
        "To train the neural network, you need to have a dataset in the following format:"
      ]
    },
    {
      "cell_type": "raw",
      "metadata": {
        "id": "UOVeJliM9l__"
      },
      "source": [
        "```\n",
        "EU B-ORG\n",
        "rejects O\n",
        "the O\n",
        "call O\n",
        "of O\n",
        "Germany B-LOC\n",
        "to O\n",
        "boycott O\n",
        "lamb O\n",
        "from O\n",
        "Great B-LOC\n",
        "Britain I-LOC\n",
        ". O\n",
        "\n",
        "China B-LOC\n",
        "says O\n",
        "time O\n",
        "right O\n",
        "for O\n",
        "Taiwan B-LOC\n",
        "talks O\n",
        ". O\n",
        "```\n"
      ]
    },
    {
      "cell_type": "markdown",
      "metadata": {
        "id": "NhubTsRJ9mAA"
      },
      "source": [
        "The source text is **tokenized** and **tagged**. For each token, there is a tag with BIO markup. Tags are separated from tokens with **whitespaces**. Sentences are separated with **empty lines**."
      ]
    },
    {
      "cell_type": "markdown",
      "metadata": {
        "id": "q3d_qHA99mAA"
      },
      "source": [
        "??? - Dataset is a text file or a set of text files. The dataset must be split into three parts: train, test, and validation."
      ]
    },
    {
      "cell_type": "markdown",
      "metadata": {
        "id": "Xmwcjgld9mAA"
      },
      "source": [
        "#### Train the model"
      ]
    },
    {
      "cell_type": "code",
      "execution_count": null,
      "metadata": {
        "id": "_ETDV4J99mAA"
      },
      "outputs": [],
      "source": [
        "ner_model = train_model(model_config)"
      ]
    },
    {
      "cell_type": "markdown",
      "source": [
        "Use your model for prediction"
      ],
      "metadata": {
        "id": "XUIG-3q-BqeS"
      }
    },
    {
      "cell_type": "code",
      "source": [
        "ner_model(['Bob Ross lived in Florida', 'Elon Musk founded Tesla'])"
      ],
      "metadata": {
        "colab": {
          "base_uri": "https://localhost:8080/"
        },
        "id": "nDTk4ascBpuI",
        "outputId": "98d57a71-2dd8-4fa1-b8eb-13ddaaad7e15"
      },
      "execution_count": 18,
      "outputs": [
        {
          "output_type": "execute_result",
          "data": {
            "text/plain": [
              "[[['Bob', 'Ross', 'lived', 'in', 'Florida'],\n",
              "  ['Elon', 'Musk', 'founded', 'Tesla']],\n",
              " [['B-PERSON', 'I-PERSON', 'O', 'O', 'B-GPE'],\n",
              "  ['B-PERSON', 'I-PERSON', 'O', 'B-ORG']]]"
            ]
          },
          "metadata": {},
          "execution_count": 18
        }
      ]
    },
    {
      "cell_type": "markdown",
      "metadata": {
        "id": "7zgEMO8f9mAA"
      },
      "source": [
        "## Using the model from the command line <a class=\"anchor\" id=\"chapter2\"></a>"
      ]
    },
    {
      "cell_type": "markdown",
      "metadata": {
        "id": "gGRnpmML9l_2"
      },
      "source": [
        "Before using the model make sure that all required packages are installed using the command:"
      ]
    },
    {
      "cell_type": "code",
      "execution_count": null,
      "metadata": {
        "id": "4a0ZIHSE9l_3"
      },
      "outputs": [],
      "source": [
        "!python -m deeppavlov install ner_ontonotes_bert_torch"
      ]
    },
    {
      "cell_type": "markdown",
      "source": [
        "### Use the pre-trained model for prediction"
      ],
      "metadata": {
        "id": "m6o9jRPuC6MP"
      }
    },
    {
      "cell_type": "code",
      "execution_count": null,
      "metadata": {
        "id": "YV6T8ahx9mAB"
      },
      "outputs": [],
      "source": [
        ""
      ]
    },
    {
      "cell_type": "markdown",
      "source": [
        "### Train the model on your data"
      ],
      "metadata": {
        "id": "BKoWBEHgC7XM"
      }
    },
    {
      "cell_type": "code",
      "source": [
        ""
      ],
      "metadata": {
        "id": "E-Zp3SXvDS6_"
      },
      "execution_count": null,
      "outputs": []
    }
  ],
  "metadata": {
    "kernelspec": {
      "display_name": "Python 3",
      "name": "python3"
    },
    "language_info": {
      "name": "python"
    },
    "colab": {
      "name": "test.ipynb",
      "provenance": [],
      "collapsed_sections": []
    },
    "accelerator": "GPU"
  },
  "nbformat": 4,
  "nbformat_minor": 0
}