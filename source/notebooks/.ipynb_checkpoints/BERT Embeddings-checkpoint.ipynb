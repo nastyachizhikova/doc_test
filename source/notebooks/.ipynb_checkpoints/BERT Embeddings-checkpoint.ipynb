{
 "cells": [
  {
   "cell_type": "markdown",
   "id": "1817593a",
   "metadata": {},
   "source": [
    "#### FastText Embeddings"
   ]
  },
  {
   "cell_type": "markdown",
   "id": "0ace6bec",
   "metadata": {},
   "source": [
    "We used fastText skip-gram (see Bojanowski et al. (2016)) for vectors training as well as various preprocessing options (see below).\n",
    "\n",
    "You can get vectors either in binary or in text (vec) formats both for fastText and GloVe."
   ]
  },
  {
   "cell_type": "markdown",
   "id": "e281d1ec",
   "metadata": {},
   "source": [
    "# Table of contents \n",
    "\n",
    "1. [Models](#1.-Models-list)\n",
    "2. [How to use](#2.-How-to-use)"
   ]
  },
  {
   "cell_type": "markdown",
   "id": "1d7530a0",
   "metadata": {},
   "source": [
    "# 1. Models list"
   ]
  },
  {
   "cell_type": "markdown",
   "id": "01e6d680",
   "metadata": {},
   "source": [
    "| Model ID   | Dataset | Language | Dimensionality | Link | Size | \n",
    "| :--- | --- | --- | --- | --- | ---: |\n",
    "| ft_native_300_ru_wiki_lenta_lemmatize   | Wiki+Lenta | Ru | 300 | vec, bin | 2,4 Гб |"
   ]
  },
  {
   "cell_type": "markdown",
   "id": "3e61f516",
   "metadata": {},
   "source": [
    "# 2. How to use"
   ]
  },
  {
   "cell_type": "code",
   "execution_count": null,
   "id": "949b138b",
   "metadata": {},
   "outputs": [],
   "source": []
  },
  {
   "cell_type": "code",
   "execution_count": null,
   "id": "a9713994",
   "metadata": {},
   "outputs": [],
   "source": []
  }
 ],
 "metadata": {
  "kernelspec": {
   "display_name": "Python (doc_env)",
   "language": "python",
   "name": "doc_env"
  },
  "language_info": {
   "codemirror_mode": {
    "name": "ipython",
    "version": 3
   },
   "file_extension": ".py",
   "mimetype": "text/x-python",
   "name": "python",
   "nbconvert_exporter": "python",
   "pygments_lexer": "ipython3",
   "version": "3.7.3"
  }
 },
 "nbformat": 4,
 "nbformat_minor": 5
}
