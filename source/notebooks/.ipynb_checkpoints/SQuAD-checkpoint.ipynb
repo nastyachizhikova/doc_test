{
 "cells": [
  {
   "cell_type": "markdown",
   "metadata": {
    "id": "wA2NayPu9l_r"
   },
   "source": [
    "#### Context Question Answering"
   ]
  },
  {
   "cell_type": "markdown",
   "metadata": {
    "id": "sUXb756_pBpb"
   },
   "source": [
    "[![Open In Colab](https://colab.research.google.com/assets/colab-badge.svg)](https://colab.research.google.com/github/nastyachizhikova/doc_test/blob/main/source/notebooks/SQuAD.ipynb)"
   ]
  },
  {
   "cell_type": "markdown",
   "metadata": {
    "id": "UkOFKCKJ9l_x"
   },
   "source": [
    "# Table of contents \n",
    "\n",
    "1. [Introduction to the task](#1.-Introduction-to-the-task)\n",
    "\n",
    "2. [Get started with the model](#2.-Get-started-with-the-model)\n",
    "\n",
    "3. [Use the model for prediction](#3.-Use-the-model-for-prediction)\n",
    "\n",
    "    3.1. [Predict using Python](#3.1-Predict-using-Python)\n",
    "    \n",
    "    3.2. [Predict using CLI](#3.2-Predict-using-CLI)\n",
    "     \n",
    "4. [Train the model on your data](#4.-Train-the-model-on-your-data)\n",
    "    \n",
    "    4.1. [Train your model from Python](#4.1-Train-your-model-from-Python)\n",
    "    \n",
    "    4.2. [Train your model from CLI](#4.2-Train-your-model-from-CLI)\n",
    "    \n",
    "5. [Evaluate](#5.-Evaluate)\n",
    "    \n",
    "    5.1. [Evaluate from Python](#5.1-Evaluate-from-Python)\n",
    "    \n",
    "    5.2. [Evaluate from CLI](#5.2-Evaluate-from-CLI)\n",
    "    \n",
    "6. [Models list](#6.-Models-list)"
   ]
  },
  {
   "cell_type": "markdown",
   "metadata": {
    "id": "6rlEvcLSpBpe"
   },
   "source": [
    "# 1. Introduction to the task"
   ]
  },
  {
   "cell_type": "markdown",
   "metadata": {
    "id": "t1HDPkc-pBpe"
   },
   "source": [
    "Context Question Answering is a task of finding a fragment with an answer to a question in a given segment of context."
   ]
  },
  {
   "cell_type": "markdown",
   "metadata": {},
   "source": [
    "**Context**:"
   ]
  },
  {
   "cell_type": "markdown",
   "metadata": {
    "id": "YbU1PKjD8Ho3"
   },
   "source": [
    "```\n",
    "In meteorology, precipitation is any product of the condensation \n",
    "of atmospheric water vapor that falls under gravity. The main forms \n",
    "of precipitation include drizzle, rain, sleet, snow, graupel and hail… \n",
    "Precipitation forms as smaller droplets coalesce via collision with \n",
    "other rain drops or ice crystals **within a cloud**. \n",
    "Short, intense periods of rain in scattered locations are called “showers”.\n",
    "```"
   ]
  },
  {
   "cell_type": "markdown",
   "metadata": {
    "id": "NtJfjLT3pBpf"
   },
   "source": [
    "**Question**:\n",
    "```\n",
    "Where do water droplets collide with ice crystals to form precipitation?\n",
    "```"
   ]
  },
  {
   "cell_type": "markdown",
   "metadata": {
    "id": "XH6JS7bs8Ho5"
   },
   "source": [
    "**Answer**: \n",
    "```\n",
    "within a cloud\n",
    "```"
   ]
  },
  {
   "cell_type": "markdown",
   "metadata": {
    "id": "vEjlhWiNpBpi"
   },
   "source": [
    "Datasets that follow this task format:\n",
    "\n",
    "- [Stanford Question Answering Dataset (SQuAD) (EN)](https://rajpurkar.github.io/SQuAD-explorer/)\n",
    "\n",
    "- [SberQuAD (RU)](https://paperswithcode.com/dataset/sberquad)"
   ]
  },
  {
   "cell_type": "markdown",
   "metadata": {
    "id": "uukjNH87Syaf"
   },
   "source": [
    "To learn more about Context Question Answering application, read [our article](https://medium.com/deeppavlov/developing-qa-systems-for-any-language-with-deeppavlov-a9033d5231a8) on Medium. "
   ]
  },
  {
   "cell_type": "markdown",
   "metadata": {
    "id": "NzHeUOeqpBpk"
   },
   "source": [
    "# 2. Get started with the model"
   ]
  },
  {
   "cell_type": "markdown",
   "metadata": {
    "id": "ygOmNC9R9l_y"
   },
   "source": [
    "First make sure you have the DeepPavlov Library installed.\n",
    "[More info about the first installation](https://deeppavlov-test.readthedocs.io/en/latest/notebooks/Get%20Started%20with%20DeepPavlov.html)"
   ]
  },
  {
   "cell_type": "code",
   "execution_count": null,
   "metadata": {
    "id": "o-GoKStT9l_z"
   },
   "outputs": [],
   "source": [
    "!pip install --q deeppavlov"
   ]
  },
  {
   "cell_type": "markdown",
   "metadata": {
    "id": "vTBqvEtdpBpm"
   },
   "source": [
    "Then make sure that all the required packages for the model are installed."
   ]
  },
  {
   "cell_type": "code",
   "execution_count": null,
   "metadata": {
    "id": "RYx-1sDqpBpn"
   },
   "outputs": [],
   "source": [
    "!python -m deeppavlov install squad_torch_bert"
   ]
  },
  {
   "cell_type": "markdown",
   "metadata": {
    "id": "i6hPLgzvpBpn"
   },
   "source": [
    "`squad_torch_bert` here is the name of the model's *config_file*. [What is a Config File?](https://deeppavlov-test.readthedocs.io/en/latest/notebooks/Config%20File.html) \n",
    "\n",
    "Configuration file defines the model and describes its hyperparameters. To use another model, change the name of the *config_file* here and further.\n",
    "The full list of the models with their config names can be found in the [table](#4.-Models-list)."
   ]
  },
  {
   "cell_type": "markdown",
   "metadata": {
    "id": "PEYknuKK9l_y"
   },
   "source": [
    "\n",
    "# 3. Use the model for prediction"
   ]
  },
  {
   "cell_type": "markdown",
   "metadata": {
    "id": "-j3tJy1c9l_1"
   },
   "source": [
    "## 3.1 Predict using Python"
   ]
  },
  {
   "cell_type": "markdown",
   "metadata": {
    "id": "cLnbUke-9l_3"
   },
   "source": [
    "After [installing](#2.-Get-started-with-the-model) the model, build it from the config and predict."
   ]
  },
  {
   "cell_type": "code",
   "execution_count": null,
   "metadata": {
    "id": "fnHw4a6C9l_4"
   },
   "outputs": [],
   "source": [
    "from deeppavlov import configs, build_model\n",
    "\n",
    "model = build_model(configs.squad.squad_torch_bert, download=True)"
   ]
  },
  {
   "cell_type": "markdown",
   "metadata": {
    "id": "ec572M3jpBpp"
   },
   "source": [
    "**Input**: List[context, question]\n",
    "\n",
    "**Output**: List[answer, start_character, logit]"
   ]
  },
  {
   "cell_type": "code",
   "execution_count": null,
   "metadata": {
    "colab": {
     "base_uri": "https://localhost:8080/"
    },
    "id": "QFXXQf3Q9l_6",
    "outputId": "c56dbc60-0730-47d6-835f-9317ac40a4b5"
   },
   "outputs": [
    {
     "data": {
      "text/plain": [
       "[['a library for NLP and dialog systems'], [14], [200928.390625]]"
      ]
     },
     "execution_count": 4,
     "metadata": {},
     "output_type": "execute_result"
    }
   ],
   "source": [
    "model(['DeepPavlov is a library for NLP and dialog systems.'], ['What is DeepPavlov?'])"
   ]
  },
  {
   "cell_type": "markdown",
   "metadata": {
    "id": "RLeAxnlu9l_7"
   },
   "source": [
    "## 3.2 Predict using CLI"
   ]
  },
  {
   "cell_type": "markdown",
   "metadata": {
    "id": "iE3j768spBps"
   },
   "source": [
    "You can also get predictions in an interactive mode through CLI."
   ]
  },
  {
   "cell_type": "code",
   "execution_count": null,
   "metadata": {
    "id": "nG8DoLyCtue7"
   },
   "outputs": [],
   "source": [
    "!python -m deeppavlov interact squad_torch_bert -d"
   ]
  },
  {
   "cell_type": "markdown",
   "metadata": {
    "id": "fOga6p9KpBps"
   },
   "source": [
    "`-d` is an optional download key (alternative to `download=True` in Python code). The key `-d` is used to download the pre-trained model along with embeddings and all other files needed to run the model. "
   ]
  },
  {
   "cell_type": "markdown",
   "metadata": {
    "id": "-0I_vIirpBpt"
   },
   "source": [
    "Or make predictions for samples from *stdin*."
   ]
  },
  {
   "cell_type": "code",
   "execution_count": null,
   "metadata": {
    "id": "xOUND8frpBpt"
   },
   "outputs": [],
   "source": [
    "!python -m deeppavlov predict squad_torch_bert -f <file-name>"
   ]
  },
  {
   "cell_type": "markdown",
   "metadata": {
    "id": "NMynAl4OpBpt"
   },
   "source": [
    "# 4. Train the model on your data"
   ]
  },
  {
   "cell_type": "markdown",
   "metadata": {
    "id": "Xo9slD6v9l_7"
   },
   "source": [
    "\n",
    "## 4.1 Train your model from Python"
   ]
  },
  {
   "cell_type": "markdown",
   "metadata": {
    "id": "dhE1rF4fpBpt"
   },
   "source": [
    "### Provide your data path"
   ]
  },
  {
   "cell_type": "markdown",
   "metadata": {
    "id": "6T4aceh89l_8"
   },
   "source": [
    "To train the model on your data, you need to change the path to the training data in the *config_file*. "
   ]
  },
  {
   "cell_type": "markdown",
   "metadata": {
    "id": "5BC6SQW-9l_8"
   },
   "source": [
    "Parse the *config_file* and change the path to your data from Python."
   ]
  },
  {
   "cell_type": "code",
   "execution_count": null,
   "metadata": {
    "colab": {
     "base_uri": "https://localhost:8080/"
    },
    "id": "WcAH6pn79l_8",
    "outputId": "c0573246-63e6-4246-c618-5ac1d901314b"
   },
   "outputs": [
    {
     "name": "stdout",
     "output_type": "stream",
     "text": [
      "~/.deeppavlov/downloads/squad/\n"
     ]
    }
   ],
   "source": [
    "from deeppavlov import configs, train_model\n",
    "from deeppavlov.core.commands.utils import parse_config\n",
    "\n",
    "model_config = parse_config(configs.squad.squad_torch_bert)\n",
    "\n",
    "#  dataset that the model was trained on\n",
    "print(model_config['dataset_reader']['data_path'])"
   ]
  },
  {
   "cell_type": "markdown",
   "metadata": {
    "id": "MCK5fbHM9l_9"
   },
   "source": [
    "Provide a *data_path* to your own dataset. "
   ]
  },
  {
   "cell_type": "code",
   "execution_count": 2,
   "metadata": {
    "colab": {
     "base_uri": "https://localhost:8080/"
    },
    "id": "qzb2zO5wpBpu",
    "outputId": "f7d2c63b-6f23-4667-ef4c-0ccabafaeb9e"
   },
   "outputs": [],
   "source": [
    "# download and unzip a new example dataset\n",
    "!wget http://files.deeppavlov.ai/datasets/squad-v1.1.tar.gz\n",
    "!tar -xzvf \"squad-v1.1.tar.gz\""
   ]
  },
  {
   "cell_type": "markdown",
   "metadata": {
    "id": "PL2URAdKq99K"
   },
   "source": [
    "Note that if you want to provide your own dataset, it should have the same format as the SQuAD dataset downloaded in this cell."
   ]
  },
  {
   "cell_type": "code",
   "execution_count": null,
   "metadata": {
    "id": "QkqD3RJi9l_-"
   },
   "outputs": [],
   "source": [
    "# provide a path to the train file\n",
    "model_config[\"dataset_reader\"][\"data_path\"] = \"/contents/train-v1.1.json\""
   ]
  },
  {
   "cell_type": "markdown",
   "metadata": {
    "id": "digO99gl8HpJ"
   },
   "source": [
    "### SQuAD dataset info"
   ]
  },
  {
   "cell_type": "markdown",
   "metadata": {
    "id": "G9EtYFaX8HpJ"
   },
   "source": [
    "There are *two* versions of the SQuAD dataset available for training at the moment: \n",
    "\n",
    "- [SQuAD 1.1](https://arxiv.org/abs/1606.05250) contains 107,785 question-answer pairs on 536 articles. Dataset size: `33.52 MiB`.\n",
    "\n",
    "- [SQuAD 2.0](https://arxiv.org/abs/1806.03822) combines all of the questions from SQuAD 1.1 with over 50,000 un-answerable questions written adversarially by crowdworkers. Dataset size: `44.34 MiB`."
   ]
  },
  {
   "cell_type": "markdown",
   "metadata": {
    "id": "Xmwcjgld9mAA"
   },
   "source": [
    "### Train the model using new config"
   ]
  },
  {
   "cell_type": "code",
   "execution_count": null,
   "metadata": {
    "id": "_ETDV4J99mAA"
   },
   "outputs": [],
   "source": [
    "model = train_model(model_config)"
   ]
  },
  {
   "cell_type": "markdown",
   "metadata": {
    "id": "XUIG-3q-BqeS"
   },
   "source": [
    "Use your model for prediction."
   ]
  },
  {
   "cell_type": "code",
   "execution_count": null,
   "metadata": {
    "colab": {
     "base_uri": "https://localhost:8080/"
    },
    "id": "nDTk4ascBpuI",
    "outputId": "02ba185e-f776-4e1e-e0ef-b0d9dad8c33b"
   },
   "outputs": [
    {
     "data": {
      "text/plain": [
       "[['a library for NLP and dialog systems'], [14], [200928.390625]]"
      ]
     },
     "execution_count": 6,
     "metadata": {},
     "output_type": "execute_result"
    }
   ],
   "source": [
    "model(['DeepPavlov is a library for NLP and dialog systems.'], ['What is DeepPavlov?'])"
   ]
  },
  {
   "cell_type": "markdown",
   "metadata": {
    "id": "BKoWBEHgC7XM"
   },
   "source": [
    "## 4.2 Train your model from CLI"
   ]
  },
  {
   "cell_type": "code",
   "execution_count": null,
   "metadata": {
    "id": "E-Zp3SXvDS6_"
   },
   "outputs": [],
   "source": [
    "!python -m deeppavlov train squad_torch_bert"
   ]
  },
  {
   "cell_type": "markdown",
   "metadata": {
    "id": "AYXNJgap8HpL"
   },
   "source": [
    "# 4. Evaluate "
   ]
  },
  {
   "cell_type": "markdown",
   "metadata": {
    "id": "xKizEI1-8HpL"
   },
   "source": [
    "## 4.1 Evaluate from Python"
   ]
  },
  {
   "cell_type": "code",
   "execution_count": null,
   "metadata": {
    "id": "vcOy_x8S8HpL"
   },
   "outputs": [],
   "source": [
    "from deeppavlov import evaluate_model\n",
    "\n",
    "model = evaluate_model(configs.squad.squad_torch_bert, download=True)"
   ]
  },
  {
   "cell_type": "markdown",
   "metadata": {
    "id": "JoeJFY7Q8HpM"
   },
   "source": [
    "## 4.1 Evaluate from CLI"
   ]
  },
  {
   "cell_type": "code",
   "execution_count": null,
   "metadata": {
    "id": "NfYruNkT8HpM"
   },
   "outputs": [],
   "source": [
    "! python -m deeppavlov evaluate squad_torch_bert -d"
   ]
  },
  {
   "cell_type": "markdown",
   "metadata": {
    "id": "csO-hGQvpBpx"
   },
   "source": [
    "# 6. Models list"
   ]
  },
  {
   "cell_type": "markdown",
   "metadata": {
    "id": "JYftVMtmpBpx"
   },
   "source": [
    "The table presents a list of all of the NER-models available in DeepPavlov Library."
   ]
  },
  {
   "cell_type": "markdown",
   "metadata": {
    "id": "6QHx_g25pBpy"
   },
   "source": [
    "| Config name  | Dataset | Language | Model Size | F1 score |\n",
    "| :--- | --- | --- | --- | ---: |\n",
    "| [squad_torch_bert](https://github.com/deepmipt/DeepPavlov/blob/dev/deeppavlov/configs/squad/squad_torch_bert.json) | SQuAD | En | ? GB | ? |\n",
    "| [multi_squad_noans](https://github.com/deepmipt/DeepPavlov/blob/dev/deeppavlov/configs/squad/multi_squad_noans.json) | SQuAD | Multi | ? GB | ? |\n",
    "| [multi_squad_retr_noans](https://github.com/deepmipt/DeepPavlov/blob/dev/deeppavlov/configs/squad/multi_squad_retr_noans.json) | SQuAD | Multi | ? GB | ? |\n",
    "| [multi_squad_ru_retr_noans](https://github.com/deepmipt/DeepPavlov/blob/dev/deeppavlov/configs/squad/multi_squad_ru_retr_noans.json) | SQuAD | ? | ? GB | ? |\n",
    "| [multi_squad_ru_retr_noans_rubert](https://github.com/deepmipt/DeepPavlov/blob/dev/deeppavlov/configs/squad/multi_squad_ru_retr_noans_rubert.json) | SQuAD | ? | ? GB | ? |\n",
    "| [squad_bert_multilingual_freezed_emb](https://github.com/deepmipt/DeepPavlov/blob/dev/deeppavlov/configs/squad/squad_bert_multilingual_freezed_emb.json) | SQuAD | Multi | ? GB | ? |\n",
    "| [squad_ru_bert](https://github.com/deepmipt/DeepPavlov/blob/dev/deeppavlov/configs/squad/squad_ru_bert.json) | SQuAD | Ru | ? GB | ? |\n",
    "| [squad_ru_convers_distilrubert_2L](https://github.com/deepmipt/DeepPavlov/blob/dev/deeppavlov/configs/squad/squad_ru_convers_distilrubert_2L.json) | SQuAD | Ru | ? GB | ? |\n",
    "| [squad_ru_convers_distilrubert_6L](https://github.com/deepmipt/DeepPavlov/blob/dev/deeppavlov/configs/squad/squad_ru_convers_distilrubert_6L.json) | SQuAD | En | ? GB | ? |\n",
    "| [squad_ru_rubert](https://github.com/deepmipt/DeepPavlov/blob/dev/deeppavlov/configs/squad/squad_ru_rubert.json) | SberQuAD | Ru | ? GB | ? |\n",
    "| [squad_torch_bert](https://github.com/deepmipt/DeepPavlov/blob/dev/deeppavlov/configs/squad/squad_torch_bert.json) | SQuAD | Ru | ? GB | ? |"
   ]
  }
 ],
 "metadata": {
  "accelerator": "GPU",
  "colab": {
   "collapsed_sections": [],
   "name": "SQuAD.ipynb",
   "provenance": []
  },
  "kernelspec": {
   "display_name": "Python 3 (ipykernel)",
   "language": "python",
   "name": "python3"
  },
  "language_info": {
   "codemirror_mode": {
    "name": "ipython",
    "version": 3
   },
   "file_extension": ".py",
   "mimetype": "text/x-python",
   "name": "python",
   "nbconvert_exporter": "python",
   "pygments_lexer": "ipython3",
   "version": "3.7.3"
  }
 },
 "nbformat": 4,
 "nbformat_minor": 4
}
