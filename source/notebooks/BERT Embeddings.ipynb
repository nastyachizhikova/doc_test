{
 "cells": [
  {
   "cell_type": "markdown",
   "id": "9d27e458",
   "metadata": {},
   "source": [
    "#### BERT Embeddings"
   ]
  },
  {
   "cell_type": "markdown",
   "id": "c417df97",
   "metadata": {},
   "source": [
    "There are several pre-trained BERT models released by Google Research, more details about these pre-trained models could be found here: https://github.com/google-research/bert#pre-trained-models. We have trained BERT-base model for other languages and domains."
   ]
  },
  {
   "cell_type": "markdown",
   "id": "3db8a269",
   "metadata": {},
   "source": [
    "# Table of contents \n",
    "\n",
    "1. [Models](#1.-Models-list)\n",
    "2. [How to use](#2.-How-to-use)"
   ]
  },
  {
   "cell_type": "markdown",
   "id": "425f0c72",
   "metadata": {},
   "source": [
    "# 1. Models list"
   ]
  },
  {
   "cell_type": "markdown",
   "id": "133ed5d9",
   "metadata": {},
   "source": [
    "| Model ID | Language | Parameters | DeepPavlov link | HuggingFace link | \n",
    "| :--- | --- | --- | --- | ---: |\n",
    "| RuBERT-cased | Ru | 12-layer, 768-hidden, 12-heads, 180M parameters | link | link | "
   ]
  },
  {
   "cell_type": "markdown",
   "id": "1d2e4ba3",
   "metadata": {},
   "source": [
    "# 2. How to use"
   ]
  },
  {
   "cell_type": "code",
   "execution_count": null,
   "id": "524aeda7",
   "metadata": {},
   "outputs": [],
   "source": []
  },
  {
   "cell_type": "code",
   "execution_count": null,
   "id": "d08073b9",
   "metadata": {},
   "outputs": [],
   "source": []
  }
 ],
 "metadata": {
  "kernelspec": {
   "display_name": "Python (doc_env)",
   "language": "python",
   "name": "doc_env"
  },
  "language_info": {
   "codemirror_mode": {
    "name": "ipython",
    "version": 3
   },
   "file_extension": ".py",
   "mimetype": "text/x-python",
   "name": "python",
   "nbconvert_exporter": "python",
   "pygments_lexer": "ipython3",
   "version": "3.7.3"
  }
 },
 "nbformat": 4,
 "nbformat_minor": 5
}
