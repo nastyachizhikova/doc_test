{
 "cells": [
  {
   "cell_type": "markdown",
   "id": "038c1056",
   "metadata": {},
   "source": [
    "#### BERT Embeddings"
   ]
  },
  {
   "cell_type": "markdown",
   "id": "c5878ce5",
   "metadata": {},
   "source": [
    "There are several pre-trained BERT models released by Google Research, more details about these pre-trained models could be found here: https://github.com/google-research/bert#pre-trained-models. We have trained BERT-base model for other languages and domains."
   ]
  },
  {
   "cell_type": "markdown",
   "id": "e5a6cbcc",
   "metadata": {},
   "source": [
    "# Table of contents \n",
    "\n",
    "1. [Models](#1.-Models-list)\n",
    "2. [How to use](#2.-How-to-use)"
   ]
  },
  {
   "cell_type": "markdown",
   "id": "9aaec6e0",
   "metadata": {},
   "source": [
    "# 1. Models list"
   ]
  },
  {
   "cell_type": "markdown",
   "id": "be137630",
   "metadata": {},
   "source": [
    "| Model ID | Language | Parameters | DeepPavlov link | HuggingFace link | \n",
    "| :--- | --- | --- | --- | ---: |\n",
    "| RuBERT-cased | Ru | 12-layer, 768-hidden, 12-heads, 180M parameters | link | link | "
   ]
  },
  {
   "cell_type": "markdown",
   "id": "14c90eff",
   "metadata": {},
   "source": [
    "# 2. How to use"
   ]
  },
  {
   "cell_type": "code",
   "execution_count": null,
   "id": "976660b5",
   "metadata": {},
   "outputs": [],
   "source": []
  },
  {
   "cell_type": "code",
   "execution_count": null,
   "id": "d44ae8ac",
   "metadata": {},
   "outputs": [],
   "source": []
  }
 ],
 "metadata": {
  "kernelspec": {
   "display_name": "Python (doc_env)",
   "language": "python",
   "name": "doc_env"
  },
  "language_info": {
   "codemirror_mode": {
    "name": "ipython",
    "version": 3
   },
   "file_extension": ".py",
   "mimetype": "text/x-python",
   "name": "python",
   "nbconvert_exporter": "python",
   "pygments_lexer": "ipython3",
   "version": "3.7.3"
  }
 },
 "nbformat": 4,
 "nbformat_minor": 5
}
