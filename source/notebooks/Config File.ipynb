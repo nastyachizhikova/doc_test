{
 "cells": [
  {
   "cell_type": "markdown",
   "id": "57b94a83",
   "metadata": {},
   "source": [
    "#### What is a config file?"
   ]
  },
  {
   "cell_type": "markdown",
   "id": "4c647356",
   "metadata": {},
   "source": [
    "Here we will provide an elaborate description of the main concepts of training and building models from a config file, their structure and variables. "
   ]
  },
  {
   "cell_type": "code",
   "execution_count": null,
   "id": "1708549e",
   "metadata": {},
   "outputs": [],
   "source": []
  }
 ],
 "metadata": {
  "kernelspec": {
   "display_name": "Python (doc_env)",
   "language": "python",
   "name": "doc_env"
  },
  "language_info": {
   "codemirror_mode": {
    "name": "ipython",
    "version": 3
   },
   "file_extension": ".py",
   "mimetype": "text/x-python",
   "name": "python",
   "nbconvert_exporter": "python",
   "pygments_lexer": "ipython3",
   "version": "3.7.3"
  }
 },
 "nbformat": 4,
 "nbformat_minor": 5
}
