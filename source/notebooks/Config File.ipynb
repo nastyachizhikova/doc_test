{
 "cells": [
  {
   "cell_type": "markdown",
   "id": "22eeb5ea",
   "metadata": {},
   "source": [
    "#### What is a config file?"
   ]
  },
  {
   "cell_type": "markdown",
   "id": "dac93597",
   "metadata": {},
   "source": [
    "Here we will provide an elaborate description of the main concepts of training and building models from a config file, their structure and variables. "
   ]
  },
  {
   "cell_type": "code",
   "execution_count": null,
   "id": "adc0d86b",
   "metadata": {},
   "outputs": [],
   "source": []
  }
 ],
 "metadata": {
  "kernelspec": {
   "display_name": "Python 3 (ipykernel)",
   "language": "python",
   "name": "python3"
  },
  "language_info": {
   "codemirror_mode": {
    "name": "ipython",
    "version": 3
   },
   "file_extension": ".py",
   "mimetype": "text/x-python",
   "name": "python",
   "nbconvert_exporter": "python",
   "pygments_lexer": "ipython3",
   "version": "3.7.3"
  }
 },
 "nbformat": 4,
 "nbformat_minor": 5
}
