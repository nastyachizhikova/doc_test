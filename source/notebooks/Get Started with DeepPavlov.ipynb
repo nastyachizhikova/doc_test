{
 "cells": [
  {
   "cell_type": "markdown",
   "id": "c73c0ea5",
   "metadata": {},
   "source": [
    "#### Get started with DeepPavlov Library"
   ]
  },
  {
   "cell_type": "markdown",
   "id": "51b555e7",
   "metadata": {},
   "source": [
    "## Installation"
   ]
  },
  {
   "cell_type": "code",
   "execution_count": null,
   "id": "aebb17f7",
   "metadata": {},
   "outputs": [],
   "source": [
    "!pip install deeppavlov"
   ]
  },
  {
   "cell_type": "markdown",
   "id": "72dc7ce3",
   "metadata": {},
   "source": [
    "To be continued"
   ]
  },
  {
   "cell_type": "code",
   "execution_count": null,
   "id": "dee85e77",
   "metadata": {},
   "outputs": [],
   "source": []
  }
 ],
 "metadata": {
  "kernelspec": {
   "display_name": "Python 3 (ipykernel)",
   "language": "python",
   "name": "python3"
  },
  "language_info": {
   "codemirror_mode": {
    "name": "ipython",
    "version": 3
   },
   "file_extension": ".py",
   "mimetype": "text/x-python",
   "name": "python",
   "nbconvert_exporter": "python",
   "pygments_lexer": "ipython3",
   "version": "3.7.3"
  }
 },
 "nbformat": 4,
 "nbformat_minor": 5
}
