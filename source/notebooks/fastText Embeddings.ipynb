{
 "cells": [
  {
   "cell_type": "markdown",
   "id": "ebb06509",
   "metadata": {},
   "source": [
    "#### FastText Embeddings"
   ]
  },
  {
   "cell_type": "markdown",
   "id": "e238e90a",
   "metadata": {},
   "source": [
    "We used fastText skip-gram (see Bojanowski et al. (2016)) for vectors training as well as various preprocessing options (see below).\n",
    "\n",
    "You can get vectors either in binary or in text (vec) formats both for fastText and GloVe."
   ]
  },
  {
   "cell_type": "markdown",
   "id": "3e4c4e36",
   "metadata": {},
   "source": [
    "# Table of contents \n",
    "\n",
    "1. [Models](#1.-Models-list)\n",
    "2. [How to use](#2.-How-to-use)"
   ]
  },
  {
   "cell_type": "markdown",
   "id": "33e43d6c",
   "metadata": {},
   "source": [
    "# 1. Models list"
   ]
  },
  {
   "cell_type": "markdown",
   "id": "3601b4a2",
   "metadata": {},
   "source": [
    "| Model ID   | Dataset | Language | Dimensionality | Link | Size | \n",
    "| :--- | --- | --- | --- | --- | ---: |\n",
    "| ft_native_300_ru_wiki_lenta_lemmatize   | Wiki+Lenta | Ru | 300 | vec, bin | 2,4 Гб |"
   ]
  },
  {
   "cell_type": "markdown",
   "id": "5ab6f2f7",
   "metadata": {},
   "source": [
    "# 2. How to use"
   ]
  },
  {
   "cell_type": "code",
   "execution_count": null,
   "id": "b80c114f",
   "metadata": {},
   "outputs": [],
   "source": []
  },
  {
   "cell_type": "code",
   "execution_count": null,
   "id": "1b8c356b",
   "metadata": {},
   "outputs": [],
   "source": []
  }
 ],
 "metadata": {
  "kernelspec": {
   "display_name": "Python 3 (ipykernel)",
   "language": "python",
   "name": "python3"
  },
  "language_info": {
   "codemirror_mode": {
    "name": "ipython",
    "version": 3
   },
   "file_extension": ".py",
   "mimetype": "text/x-python",
   "name": "python",
   "nbconvert_exporter": "python",
   "pygments_lexer": "ipython3",
   "version": "3.7.3"
  }
 },
 "nbformat": 4,
 "nbformat_minor": 5
}
