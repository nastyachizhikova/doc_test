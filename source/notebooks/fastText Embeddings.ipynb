{
 "cells": [
  {
   "cell_type": "markdown",
   "id": "c7395105",
   "metadata": {},
   "source": [
    "#### FastText Embeddings"
   ]
  },
  {
   "cell_type": "markdown",
   "id": "4fa1c9b7",
   "metadata": {},
   "source": [
    "We used fastText skip-gram (see Bojanowski et al. (2016)) for vectors training as well as various preprocessing options (see below).\n",
    "\n",
    "You can get vectors either in binary or in text (vec) formats both for fastText and GloVe."
   ]
  },
  {
   "cell_type": "markdown",
   "id": "799d2239",
   "metadata": {},
   "source": [
    "# Table of contents \n",
    "\n",
    "1. [Models](#1.-Models-list)\n",
    "2. [How to use](#2.-How-to-use)"
   ]
  },
  {
   "cell_type": "markdown",
   "id": "ae4492c2",
   "metadata": {},
   "source": [
    "# 1. Models list"
   ]
  },
  {
   "cell_type": "markdown",
   "id": "1cc89006",
   "metadata": {},
   "source": [
    "| Model ID   | Dataset | Language | Dimensionality | Link | Size | \n",
    "| :--- | --- | --- | --- | --- | ---: |\n",
    "| ft_native_300_ru_wiki_lenta_lemmatize   | Wiki+Lenta | Ru | 300 | vec, bin | 2,4 Гб |"
   ]
  },
  {
   "cell_type": "markdown",
   "id": "2503bdc0",
   "metadata": {},
   "source": [
    "# 2. How to use"
   ]
  },
  {
   "cell_type": "code",
   "execution_count": null,
   "id": "a2299e7b",
   "metadata": {},
   "outputs": [],
   "source": []
  },
  {
   "cell_type": "code",
   "execution_count": null,
   "id": "7d2a674a",
   "metadata": {},
   "outputs": [],
   "source": []
  }
 ],
 "metadata": {
  "kernelspec": {
   "display_name": "Python (doc_env)",
   "language": "python",
   "name": "doc_env"
  },
  "language_info": {
   "codemirror_mode": {
    "name": "ipython",
    "version": 3
   },
   "file_extension": ".py",
   "mimetype": "text/x-python",
   "name": "python",
   "nbconvert_exporter": "python",
   "pygments_lexer": "ipython3",
   "version": "3.7.3"
  }
 },
 "nbformat": 4,
 "nbformat_minor": 5
}
